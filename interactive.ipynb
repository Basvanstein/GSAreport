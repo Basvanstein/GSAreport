{
 "cells": [
  {
   "cell_type": "code",
   "execution_count": 18,
   "metadata": {},
   "outputs": [],
   "source": [
    "from mpl_toolkits.mplot3d import Axes3D\n",
    "from matplotlib import cm\n",
    "from matplotlib.colors import LogNorm\n",
    "import matplotlib.pyplot as plt\n",
    "import numpy as np\n",
    "from deap import benchmarks\n",
    "\n",
    "from SALib.sample import saltelli,finite_diff, fast_sampler\n",
    "from SALib.analyze import morris,sobol, dgsm, fast, delta\n",
    "from SALib.util import read_param_file\n",
    "from SALib.sample.morris import sample\n",
    "from SALib.plotting.morris import horizontal_bar_plot, covariance_plot, sample_histograms\n",
    "\n",
    "from SALib.sample import saltelli\n",
    "from SALib.analyze import sobol\n",
    "from SALib.sample import fast_sampler\n",
    "from SALib.analyze import fast\n",
    "from SALib.sample import latin\n",
    "from SALib.analyze import rbd_fast\n",
    "from SALib.sample import latin\n",
    "from SALib.analyze import delta\n",
    "from tqdm.notebook import tqdm\n",
    "\n",
    "# Import seaborn\n",
    "import seaborn as sns\n",
    "\n",
    "# Apply the default theme\n",
    "sns.set_theme()\n",
    "\n",
    "%matplotlib inline"
   ]
  },
  {
   "cell_type": "code",
   "execution_count": 21,
   "metadata": {},
   "outputs": [],
   "source": [
    "\n",
    "\n",
    "def plotSensitivity(x_samples, sens, conf, title=\"Sensitivity scores\", filename=\"\"):\n",
    "    #print(sens.shape, conf.shape) #3, 10, 5, 2 = sample_sizes, reps, algs, dim\n",
    "\n",
    "    avg_sens = np.mean(sens, axis=1)\n",
    "    avg_conf = np.mean(conf, axis=1)\n",
    "    std_sens = np.std(sens, axis=1)\n",
    "\n",
    "    colors = ['green','blue','cyan','black','yellow']\n",
    "    conf_colors = ['red','red','red','red','red']\n",
    "    labels = ['Morris','Sobol','Fast', \"Rdb\", \"Delta\"]\n",
    "    cols = labels\n",
    "    rows = ['X{}'.format(row) for row in range(avg_sens.shape[2])]\n",
    "\n",
    "    fig, axes = plt.subplots(avg_sens.shape[2], avg_sens.shape[1], figsize=[20,4*avg_sens.shape[2]])\n",
    "    fig.suptitle(title)\n",
    "    \n",
    "    for j in np.arange(avg_sens.shape[2]):\n",
    "        for i in np.arange(avg_sens.shape[1]):\n",
    "            axes[j,i].fill_between(x_samples, (avg_sens[:,i,j]-avg_conf[:,i,j]), (avg_sens[:,i,j]+avg_conf[:,i,j]), color=conf_colors[i], alpha=0.1 )\n",
    "            axes[j,i].fill_between(x_samples, (avg_sens[:,i,j]-std_sens[:,i,j]), (avg_sens[:,i,j]+std_sens[:,i,j]), color=colors[i], alpha=0.2 )\n",
    "            axes[j,i].plot(x_samples,avg_sens[:,i,j],color=colors[i], label = labels[i])\n",
    "            axes[j,i].set_xticks(x_samples)\n",
    "            axes[j,i].set_xscale('log', base=2)\n",
    "            if i > 0:\n",
    "                axes[j,i].set_ylim([0.0,1.0])\n",
    "\n",
    "    lines_labels = [ax.get_legend_handles_labels() for ax in axes[0,:]]\n",
    "    lines, labels = [sum(lol, []) for lol in zip(*lines_labels)]\n",
    "\n",
    "    for ax, col in zip(axes[0], cols):\n",
    "        ax.set_title(col)\n",
    "\n",
    "    for ax, row in zip(axes[:,0], rows):\n",
    "        ax.set_ylabel(row, rotation=0)\n",
    "\n",
    "    # finally we invoke the legend (that you probably would like to customize...)\n",
    "\n",
    "    #fig.legend(lines, labels)\n",
    "    fig.tight_layout()\n",
    "    plt.xlabel(\"sample size\")\n",
    "    plt.ylabel(\"sensitivity index\")\n",
    "    plt.savefig(f\"{filename}.pdf\")\n",
    "    plt.show()\n",
    "    plt.clf()\n",
    "    "
   ]
  },
  {
   "cell_type": "code",
   "execution_count": 22,
   "metadata": {},
   "outputs": [
    {
     "data": {
      "application/vnd.jupyter.widget-view+json": {
       "model_id": "a43890bba07c4699a16921b7bfb3aedc",
       "version_major": 2,
       "version_minor": 0
      },
      "text/plain": [
       "  0%|          | 0/24 [00:00<?, ?it/s]"
      ]
     },
     "metadata": {},
     "output_type": "display_data"
    },
    {
     "data": {
      "application/vnd.jupyter.widget-view+json": {
       "model_id": "541f1234962348ae8caf8329b95de042",
       "version_major": 2,
       "version_minor": 0
      },
      "text/plain": [
       "  0%|          | 0/8 [00:00<?, ?it/s]"
      ]
     },
     "metadata": {},
     "output_type": "display_data"
    },
    {
     "data": {
      "application/vnd.jupyter.widget-view+json": {
       "model_id": "d0c86627804347a89fb2f5b2f024a34a",
       "version_major": 2,
       "version_minor": 0
      },
      "text/plain": [
       "  0%|          | 0/10 [00:00<?, ?it/s]"
      ]
     },
     "metadata": {},
     "output_type": "display_data"
    },
    {
     "data": {
      "application/vnd.jupyter.widget-view+json": {
       "model_id": "163e0a51408c4ad792147ce38576aa2b",
       "version_major": 2,
       "version_minor": 0
      },
      "text/plain": [
       "  0%|          | 0/10 [00:00<?, ?it/s]"
      ]
     },
     "metadata": {},
     "output_type": "display_data"
    },
    {
     "data": {
      "application/vnd.jupyter.widget-view+json": {
       "model_id": "6935e37ed5dd44de836eaa95e1394358",
       "version_major": 2,
       "version_minor": 0
      },
      "text/plain": [
       "  0%|          | 0/10 [00:00<?, ?it/s]"
      ]
     },
     "metadata": {},
     "output_type": "display_data"
    },
    {
     "data": {
      "application/vnd.jupyter.widget-view+json": {
       "model_id": "aa8d2229fa384604a5cdd4f3fddcd50a",
       "version_major": 2,
       "version_minor": 0
      },
      "text/plain": [
       "  0%|          | 0/10 [00:00<?, ?it/s]"
      ]
     },
     "metadata": {},
     "output_type": "display_data"
    },
    {
     "data": {
      "application/vnd.jupyter.widget-view+json": {
       "model_id": "645075772606439dba3617ed5d666e16",
       "version_major": 2,
       "version_minor": 0
      },
      "text/plain": [
       "  0%|          | 0/10 [00:00<?, ?it/s]"
      ]
     },
     "metadata": {},
     "output_type": "display_data"
    },
    {
     "data": {
      "application/vnd.jupyter.widget-view+json": {
       "model_id": "77069db7d9a34688abf926ed7a687340",
       "version_major": 2,
       "version_minor": 0
      },
      "text/plain": [
       "  0%|          | 0/10 [00:00<?, ?it/s]"
      ]
     },
     "metadata": {},
     "output_type": "display_data"
    },
    {
     "data": {
      "application/vnd.jupyter.widget-view+json": {
       "model_id": "f3d36bd0c09c4f4db60c493a20c65067",
       "version_major": 2,
       "version_minor": 0
      },
      "text/plain": [
       "  0%|          | 0/10 [00:00<?, ?it/s]"
      ]
     },
     "metadata": {},
     "output_type": "display_data"
    }
   ],
   "source": [
    "def runSensitivityExperiment(dim, f, title, filename):\n",
    "    fun, opt = bn.instantiate(f, iinstance=1)\n",
    "    problem = {\n",
    "    'num_vars': dim,\n",
    "    'names': ['X'+str(x) for x in range(dim)],\n",
    "    'bounds': [[-5.0, 5.0]] * dim\n",
    "    }\n",
    "    x_samples = [64,128,256,512,1024,2048,4096,8192] #,8192,16384\n",
    "    results = []\n",
    "    conf_results = []\n",
    "    \n",
    "    for sample_size in tqdm(x_samples,position=1, leave=False):\n",
    "        rep_results = []\n",
    "        rep_conf_results = []\n",
    "        for rep in tqdm(np.arange(10),position=2, leave=False):\n",
    "            np.random.seed(rep)\n",
    "            alg_results = []\n",
    "            alg_conf_results = []\n",
    "            X_morris = sample(problem, N=sample_size, num_levels=4, optimal_trajectories=None)\n",
    "            z_morris =  np.asarray(list(map(fun, X_morris)))\n",
    "\n",
    "            res_morris = morris.analyze(problem, X_morris, z_morris,\n",
    "                                        conf_level=0.95,\n",
    "                                        print_to_console=False,\n",
    "                                        num_levels=4,\n",
    "                                        num_resamples=10,\n",
    "                                        seed=rep)\n",
    "            alg_results.append( np.asarray(res_morris[\"mu_star\"]))\n",
    "            alg_conf_results.append( np.asarray(res_morris[\"mu_star_conf\"]))\n",
    "\n",
    "            #Sobol\n",
    "            X_sobol = saltelli.sample(problem, N=sample_size, calc_second_order=True)\n",
    "            z_sobol =  np.asarray(list(map(fun, X_sobol)))\n",
    "            res_sobol = sobol.analyze(problem, z_sobol, print_to_console=False,seed=rep)\n",
    "            alg_results.append( np.asarray(res_sobol[\"S1\"]))\n",
    "            alg_conf_results.append( np.asarray(res_sobol[\"S1_conf\"]))\n",
    "            \n",
    "\n",
    "            #Fast\n",
    "            M = 4\n",
    "            if ((4 * M)**2 > sample_size):\n",
    "                M = 1\n",
    "            X_fast = fast_sampler.sample(problem, N=sample_size, M=M)\n",
    "            z_fast =  np.asarray(list(map(fun, X_fast)))\n",
    "            res_fast = fast.analyze(problem, z_fast, print_to_console=False,seed=rep)\n",
    "            alg_results.append( np.asarray(res_fast[\"S1\"]))\n",
    "            alg_conf_results.append( np.asarray(res_fast[\"S1_conf\"]))\n",
    "\n",
    "            #rbd #delta\n",
    "            X_latin = latin.sample(problem, N=sample_size)\n",
    "            z_latin =  np.asarray(list(map(fun, X_latin)))\n",
    "            res_rbd = rbd_fast.analyze(problem, X_latin, z_latin, print_to_console=False,seed=rep)\n",
    "            res_delta = delta.analyze(problem, X_latin, z_latin, print_to_console=False,seed=rep)\n",
    "            alg_results.append( np.asarray(res_rbd[\"S1\"]))\n",
    "            alg_conf_results.append( np.asarray(res_rbd[\"S1_conf\"]))\n",
    "            alg_results.append( np.asarray(res_delta[\"S1\"]))\n",
    "            alg_conf_results.append( np.asarray(res_delta[\"S1_conf\"]))\n",
    "            rep_results.append(np.asarray(alg_results))\n",
    "            rep_conf_results.append(np.asarray(alg_conf_results))\n",
    "        results.append(np.asarray(rep_results))\n",
    "        conf_results.append(np.asarray(rep_conf_results))\n",
    "\n",
    "    plotSensitivity(x_samples, np.asarray(results), np.asarray(conf_results), title=title, filename=filename)\n",
    "\n",
    "from benchmark import bbobbenchmarks as bn\n",
    "\n",
    "fIDs = bn.nfreeIDs[:]    # for all fcts\n",
    "\n",
    "for dim in [2,5,10,20]:\n",
    "    for f in tqdm(fIDs, position=0):\n",
    "        runSensitivityExperiment(dim, f, title=f\"Average Sensitivity Scores on F{f} D{dim}\", filename=f\"f{f}-d{dim}\") #maybe add repetitions"
   ]
  },
  {
   "cell_type": "code",
   "execution_count": null,
   "metadata": {},
   "outputs": [],
   "source": []
  }
 ],
 "metadata": {
  "interpreter": {
   "hash": "c424677d48550d8fbc7fccefd265019ddbe707f4cd67a8aa7ac80693002c3a93"
  },
  "kernelspec": {
   "display_name": "Python 3.9.9 64-bit ('env': venv)",
   "language": "python",
   "name": "python3"
  },
  "language_info": {
   "codemirror_mode": {
    "name": "ipython",
    "version": 3
   },
   "file_extension": ".py",
   "mimetype": "text/x-python",
   "name": "python",
   "nbconvert_exporter": "python",
   "pygments_lexer": "ipython3",
   "version": "3.9.9"
  },
  "orig_nbformat": 4
 },
 "nbformat": 4,
 "nbformat_minor": 2
}
