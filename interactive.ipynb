{
 "cells": [
  {
   "cell_type": "code",
   "execution_count": 6,
   "metadata": {},
   "outputs": [],
   "source": [
    "from mpl_toolkits.mplot3d import Axes3D\n",
    "from matplotlib import cm\n",
    "from matplotlib.colors import LogNorm\n",
    "import matplotlib.pyplot as plt\n",
    "import numpy as np\n",
    "from deap import benchmarks\n",
    "\n",
    "from SALib.sample import saltelli,finite_diff, fast_sampler, latin\n",
    "from SALib.analyze import morris,sobol, dgsm, fast, delta, rbd_fast\n",
    "from SALib.util import read_param_file\n",
    "from SALib.sample.morris import sample\n",
    "from SALib.plotting.morris import horizontal_bar_plot, covariance_plot, sample_histograms\n",
    "\n",
    "from tqdm.notebook import tqdm\n",
    "\n",
    "# Import seaborn\n",
    "import seaborn as sns\n",
    "\n",
    "# Apply the default theme\n",
    "sns.set_theme()\n",
    "\n",
    "%matplotlib inline"
   ]
  },
  {
   "cell_type": "code",
   "execution_count": 7,
   "metadata": {},
   "outputs": [],
   "source": [
    "\n",
    "def plotSensitivity(x_samples, sens, conf, title=\"Sensitivity scores\", filename=\"\"):\n",
    "    #print(sens.shape, conf.shape) #3, 10, 5, 2 = sample_sizes, reps, algs, dim\n",
    "\n",
    "    avg_sens = np.mean(sens, axis=1)\n",
    "    avg_conf = np.mean(conf, axis=1)\n",
    "    std_sens = np.std(sens, axis=1)\n",
    "\n",
    "    #colors = ['tab:blue','tab:orange','tab:green','tab:purple','tab:brown']\n",
    "    LINE_STYLES = ['solid', 'dashed', 'dashdot', 'dotted']\n",
    "    NUM_STYLES = len(LINE_STYLES)\n",
    "    colors = sns.color_palette('husl', n_colors=avg_sens.shape[2])\n",
    "    labels = ['Morris','Sobol','Fast', \"RDB-Fast\", \"Delta\", \"DGSM\"]\n",
    "    cols = labels\n",
    "    rows = ['X{}'.format(row) for row in range(avg_sens.shape[2])]\n",
    "\n",
    "    \"\"\" #figure per X\n",
    "    fig, axes = plt.subplots(avg_sens.shape[2], avg_sens.shape[1], sharey=True, figsize=[20,3*avg_sens.shape[2]])\n",
    "    fig.suptitle(title)\n",
    "    \n",
    "    for j in np.arange(avg_sens.shape[2]):\n",
    "        for i in np.arange(avg_sens.shape[1]):\n",
    "            axes[j,i].fill_between(x_samples, (avg_sens[:,i,j]-std_sens[:,i,j]), (avg_sens[:,i,j]+std_sens[:,i,j]), color=conf_colors[i], alpha=0.2 )\n",
    "            axes[j,i].fill_between(x_samples, (avg_sens[:,i,j]-avg_conf[:,i,j]), (avg_sens[:,i,j]+avg_conf[:,i,j]), color=colors[i], alpha=0.1 )\n",
    "            axes[j,i].plot(x_samples,avg_sens[:,i,j],color=colors[i], label = labels[i])\n",
    "            axes[j,i].set_xticks(x_samples)\n",
    "            axes[j,i].set_xscale('log', base=2)\n",
    "            #if i > 0:\n",
    "            axes[j,i].set_ylim([0.0,1.0])\n",
    "    \"\"\"\n",
    "    fig, axes = plt.subplots(1, avg_sens.shape[1], sharey=True, figsize=[20,3])\n",
    "    fig.suptitle(title)\n",
    "    \n",
    "    for j in np.arange(avg_sens.shape[2]):\n",
    "        for i in np.arange(avg_sens.shape[1]):\n",
    "            axes[i].fill_between(x_samples, (avg_sens[:,i,j]-std_sens[:,i,j]), (avg_sens[:,i,j]+std_sens[:,i,j]), color=colors[j], alpha=0.2 )\n",
    "            axes[i].fill_between(x_samples, (avg_sens[:,i,j]-avg_conf[:,i,j]), (avg_sens[:,i,j]+avg_conf[:,i,j]), color=colors[j], alpha=0.1 )\n",
    "            axes[i].plot(x_samples,avg_sens[:,i,j],color=colors[j], linestyle=LINE_STYLES[j%NUM_STYLES] , label = 'X'+str(j))\n",
    "            axes[i].set_xticks(x_samples)\n",
    "            axes[i].set_xscale('log', base=2)\n",
    "            axes[i].set_ylim([0.0,1.0])\n",
    "\n",
    "    lines_labels = [ax.get_legend_handles_labels() for ax in [axes[0]]]\n",
    "    lines, labels = [sum(lol, []) for lol in zip(*lines_labels)]\n",
    "\n",
    "    for ax, col in zip(axes, cols):\n",
    "        ax.set_title(col)\n",
    "\n",
    "    #for ax, row in zip(axes[:,0], rows):\n",
    "    #    ax.set_ylabel(row, rotation=0)\n",
    "\n",
    "    # finally we invoke the legend (that you probably would like to customize...)\n",
    "\n",
    "    fig.legend(lines, labels)\n",
    "    fig.tight_layout()\n",
    "    plt.tight_layout()\n",
    "    #plt.xlabel(\"sample size\")\n",
    "    #plt.ylabel(\"sensitivity index\")\n",
    "    plt.savefig(f\"{filename}.pdf\")\n",
    "    #plt.show()\n",
    "    plt.clf()\n",
    "    "
   ]
  },
  {
   "cell_type": "code",
   "execution_count": 8,
   "metadata": {},
   "outputs": [
    {
     "data": {
      "application/vnd.jupyter.widget-view+json": {
       "model_id": "8773c7e797a64832a46ede4d02e4e1f7",
       "version_major": 2,
       "version_minor": 0
      },
      "text/plain": [
       "  0%|          | 0/24 [00:00<?, ?it/s]"
      ]
     },
     "metadata": {},
     "output_type": "display_data"
    },
    {
     "data": {
      "application/vnd.jupyter.widget-view+json": {
       "model_id": "0542d462e8da44d79415fe6d80f0c836",
       "version_major": 2,
       "version_minor": 0
      },
      "text/plain": [
       "  0%|          | 0/9 [00:00<?, ?it/s]"
      ]
     },
     "metadata": {},
     "output_type": "display_data"
    },
    {
     "data": {
      "application/vnd.jupyter.widget-view+json": {
       "model_id": "31d395ac8c664b64b82d0c3b817326d4",
       "version_major": 2,
       "version_minor": 0
      },
      "text/plain": [
       "  0%|          | 0/10 [00:00<?, ?it/s]"
      ]
     },
     "metadata": {},
     "output_type": "display_data"
    },
    {
     "data": {
      "application/vnd.jupyter.widget-view+json": {
       "model_id": "9fece9f9c0cd4e8bae30d907184eb59b",
       "version_major": 2,
       "version_minor": 0
      },
      "text/plain": [
       "  0%|          | 0/10 [00:00<?, ?it/s]"
      ]
     },
     "metadata": {},
     "output_type": "display_data"
    },
    {
     "ename": "KeyboardInterrupt",
     "evalue": "",
     "output_type": "error",
     "traceback": [
      "\u001b[1;31m---------------------------------------------------------------------------\u001b[0m",
      "\u001b[1;31mKeyboardInterrupt\u001b[0m                         Traceback (most recent call last)",
      "\u001b[1;32mC:\\Users\\BASVAN~1\\AppData\\Local\\Temp/ipykernel_25428/3867765769.py\u001b[0m in \u001b[0;36m<module>\u001b[1;34m\u001b[0m\n\u001b[0;32m     87\u001b[0m \u001b[1;32mfor\u001b[0m \u001b[0mdim\u001b[0m \u001b[1;32min\u001b[0m \u001b[1;33m[\u001b[0m\u001b[1;36m2\u001b[0m\u001b[1;33m,\u001b[0m\u001b[1;36m5\u001b[0m\u001b[1;33m,\u001b[0m\u001b[1;36m10\u001b[0m\u001b[1;33m,\u001b[0m\u001b[1;36m20\u001b[0m\u001b[1;33m]\u001b[0m\u001b[1;33m:\u001b[0m\u001b[1;33m\u001b[0m\u001b[1;33m\u001b[0m\u001b[0m\n\u001b[0;32m     88\u001b[0m     \u001b[1;32mfor\u001b[0m \u001b[0mf\u001b[0m \u001b[1;32min\u001b[0m \u001b[0mtqdm\u001b[0m\u001b[1;33m(\u001b[0m\u001b[0mfIDs\u001b[0m\u001b[1;33m,\u001b[0m \u001b[0mposition\u001b[0m\u001b[1;33m=\u001b[0m\u001b[1;36m0\u001b[0m\u001b[1;33m)\u001b[0m\u001b[1;33m:\u001b[0m\u001b[1;33m\u001b[0m\u001b[1;33m\u001b[0m\u001b[0m\n\u001b[1;32m---> 89\u001b[1;33m         \u001b[0mrunSensitivityExperiment\u001b[0m\u001b[1;33m(\u001b[0m\u001b[0mdim\u001b[0m\u001b[1;33m,\u001b[0m \u001b[0mf\u001b[0m\u001b[1;33m,\u001b[0m \u001b[0mtitle\u001b[0m\u001b[1;33m=\u001b[0m\u001b[1;34mf\"Average Sensitivity Scores per Sample Size on F{f} D{dim}\"\u001b[0m\u001b[1;33m,\u001b[0m \u001b[0mfilename\u001b[0m\u001b[1;33m=\u001b[0m\u001b[1;34mf\"f{f}-d{dim}\"\u001b[0m\u001b[1;33m)\u001b[0m \u001b[1;31m#maybe add repetitions\u001b[0m\u001b[1;33m\u001b[0m\u001b[1;33m\u001b[0m\u001b[0m\n\u001b[0m",
      "\u001b[1;32mC:\\Users\\BASVAN~1\\AppData\\Local\\Temp/ipykernel_25428/3867765769.py\u001b[0m in \u001b[0;36mrunSensitivityExperiment\u001b[1;34m(dim, f, title, filename)\u001b[0m\n\u001b[0;32m     56\u001b[0m             \u001b[0mz_latin\u001b[0m \u001b[1;33m=\u001b[0m  \u001b[0mnp\u001b[0m\u001b[1;33m.\u001b[0m\u001b[0masarray\u001b[0m\u001b[1;33m(\u001b[0m\u001b[0mlist\u001b[0m\u001b[1;33m(\u001b[0m\u001b[0mmap\u001b[0m\u001b[1;33m(\u001b[0m\u001b[0mfun\u001b[0m\u001b[1;33m,\u001b[0m \u001b[0mX_latin\u001b[0m\u001b[1;33m)\u001b[0m\u001b[1;33m)\u001b[0m\u001b[1;33m)\u001b[0m\u001b[1;33m\u001b[0m\u001b[1;33m\u001b[0m\u001b[0m\n\u001b[0;32m     57\u001b[0m             \u001b[0mres_rbd\u001b[0m \u001b[1;33m=\u001b[0m \u001b[0mrbd_fast\u001b[0m\u001b[1;33m.\u001b[0m\u001b[0manalyze\u001b[0m\u001b[1;33m(\u001b[0m\u001b[0mproblem\u001b[0m\u001b[1;33m,\u001b[0m \u001b[0mX_latin\u001b[0m\u001b[1;33m,\u001b[0m \u001b[0mz_latin\u001b[0m\u001b[1;33m,\u001b[0m \u001b[0mprint_to_console\u001b[0m\u001b[1;33m=\u001b[0m\u001b[1;32mFalse\u001b[0m\u001b[1;33m,\u001b[0m\u001b[0mseed\u001b[0m\u001b[1;33m=\u001b[0m\u001b[0mrep\u001b[0m\u001b[1;33m)\u001b[0m\u001b[1;33m\u001b[0m\u001b[1;33m\u001b[0m\u001b[0m\n\u001b[1;32m---> 58\u001b[1;33m             \u001b[0mres_delta\u001b[0m \u001b[1;33m=\u001b[0m \u001b[0mdelta\u001b[0m\u001b[1;33m.\u001b[0m\u001b[0manalyze\u001b[0m\u001b[1;33m(\u001b[0m\u001b[0mproblem\u001b[0m\u001b[1;33m,\u001b[0m \u001b[0mX_latin\u001b[0m\u001b[1;33m,\u001b[0m \u001b[0mz_latin\u001b[0m\u001b[1;33m,\u001b[0m \u001b[0mprint_to_console\u001b[0m\u001b[1;33m=\u001b[0m\u001b[1;32mFalse\u001b[0m\u001b[1;33m,\u001b[0m\u001b[0mseed\u001b[0m\u001b[1;33m=\u001b[0m\u001b[0mrep\u001b[0m\u001b[1;33m)\u001b[0m\u001b[1;33m\u001b[0m\u001b[1;33m\u001b[0m\u001b[0m\n\u001b[0m\u001b[0;32m     59\u001b[0m             \u001b[0malg_results\u001b[0m\u001b[1;33m.\u001b[0m\u001b[0mappend\u001b[0m\u001b[1;33m(\u001b[0m \u001b[0mnp\u001b[0m\u001b[1;33m.\u001b[0m\u001b[0masarray\u001b[0m\u001b[1;33m(\u001b[0m\u001b[0mres_rbd\u001b[0m\u001b[1;33m[\u001b[0m\u001b[1;34m\"S1\"\u001b[0m\u001b[1;33m]\u001b[0m\u001b[1;33m)\u001b[0m\u001b[1;33m)\u001b[0m\u001b[1;33m\u001b[0m\u001b[1;33m\u001b[0m\u001b[0m\n\u001b[0;32m     60\u001b[0m             \u001b[0malg_conf_results\u001b[0m\u001b[1;33m.\u001b[0m\u001b[0mappend\u001b[0m\u001b[1;33m(\u001b[0m \u001b[0mnp\u001b[0m\u001b[1;33m.\u001b[0m\u001b[0masarray\u001b[0m\u001b[1;33m(\u001b[0m\u001b[0mres_rbd\u001b[0m\u001b[1;33m[\u001b[0m\u001b[1;34m\"S1_conf\"\u001b[0m\u001b[1;33m]\u001b[0m\u001b[1;33m)\u001b[0m\u001b[1;33m)\u001b[0m\u001b[1;33m\u001b[0m\u001b[1;33m\u001b[0m\u001b[0m\n",
      "\u001b[1;32md:\\Repositories\\XAI\\env\\lib\\site-packages\\SALib\\analyze\\delta.py\u001b[0m in \u001b[0;36manalyze\u001b[1;34m(problem, X, Y, num_resamples, conf_level, print_to_console, seed)\u001b[0m\n\u001b[0;32m     74\u001b[0m         \u001b[1;32mfor\u001b[0m \u001b[0mi\u001b[0m \u001b[1;32min\u001b[0m \u001b[0mrange\u001b[0m\u001b[1;33m(\u001b[0m\u001b[0mD\u001b[0m\u001b[1;33m)\u001b[0m\u001b[1;33m:\u001b[0m\u001b[1;33m\u001b[0m\u001b[1;33m\u001b[0m\u001b[0m\n\u001b[0;32m     75\u001b[0m             \u001b[0mX_i\u001b[0m \u001b[1;33m=\u001b[0m \u001b[0mX\u001b[0m\u001b[1;33m[\u001b[0m\u001b[1;33m:\u001b[0m\u001b[1;33m,\u001b[0m \u001b[0mi\u001b[0m\u001b[1;33m]\u001b[0m\u001b[1;33m\u001b[0m\u001b[1;33m\u001b[0m\u001b[0m\n\u001b[1;32m---> 76\u001b[1;33m             S['delta'][i], S['delta_conf'][i] = bias_reduced_delta(\n\u001b[0m\u001b[0;32m     77\u001b[0m                 Y, Ygrid, X_i, m, num_resamples, conf_level)\n\u001b[0;32m     78\u001b[0m             \u001b[0mS\u001b[0m\u001b[1;33m[\u001b[0m\u001b[1;34m'S1'\u001b[0m\u001b[1;33m]\u001b[0m\u001b[1;33m[\u001b[0m\u001b[0mi\u001b[0m\u001b[1;33m]\u001b[0m \u001b[1;33m=\u001b[0m \u001b[0msobol_first\u001b[0m\u001b[1;33m(\u001b[0m\u001b[0mY\u001b[0m\u001b[1;33m,\u001b[0m \u001b[0mX_i\u001b[0m\u001b[1;33m,\u001b[0m \u001b[0mm\u001b[0m\u001b[1;33m)\u001b[0m\u001b[1;33m\u001b[0m\u001b[1;33m\u001b[0m\u001b[0m\n",
      "\u001b[1;32md:\\Repositories\\XAI\\env\\lib\\site-packages\\SALib\\analyze\\delta.py\u001b[0m in \u001b[0;36mbias_reduced_delta\u001b[1;34m(Y, Ygrid, X, m, num_resamples, conf_level)\u001b[0m\n\u001b[0;32m    126\u001b[0m     \u001b[1;32mfor\u001b[0m \u001b[0mi\u001b[0m \u001b[1;32min\u001b[0m \u001b[0mrange\u001b[0m\u001b[1;33m(\u001b[0m\u001b[0mnum_resamples\u001b[0m\u001b[1;33m)\u001b[0m\u001b[1;33m:\u001b[0m\u001b[1;33m\u001b[0m\u001b[1;33m\u001b[0m\u001b[0m\n\u001b[0;32m    127\u001b[0m         \u001b[0mr_i\u001b[0m \u001b[1;33m=\u001b[0m \u001b[0mr\u001b[0m\u001b[1;33m[\u001b[0m\u001b[0mi\u001b[0m\u001b[1;33m,\u001b[0m \u001b[1;33m:\u001b[0m\u001b[1;33m]\u001b[0m\u001b[1;33m\u001b[0m\u001b[1;33m\u001b[0m\u001b[0m\n\u001b[1;32m--> 128\u001b[1;33m         \u001b[0md\u001b[0m\u001b[1;33m[\u001b[0m\u001b[0mi\u001b[0m\u001b[1;33m]\u001b[0m \u001b[1;33m=\u001b[0m \u001b[0mcalc_delta\u001b[0m\u001b[1;33m(\u001b[0m\u001b[0mY\u001b[0m\u001b[1;33m[\u001b[0m\u001b[0mr_i\u001b[0m\u001b[1;33m]\u001b[0m\u001b[1;33m,\u001b[0m \u001b[0mYgrid\u001b[0m\u001b[1;33m,\u001b[0m \u001b[0mX\u001b[0m\u001b[1;33m[\u001b[0m\u001b[0mr_i\u001b[0m\u001b[1;33m]\u001b[0m\u001b[1;33m,\u001b[0m \u001b[0mm\u001b[0m\u001b[1;33m)\u001b[0m\u001b[1;33m\u001b[0m\u001b[1;33m\u001b[0m\u001b[0m\n\u001b[0m\u001b[0;32m    129\u001b[0m \u001b[1;33m\u001b[0m\u001b[0m\n\u001b[0;32m    130\u001b[0m     \u001b[0md\u001b[0m \u001b[1;33m=\u001b[0m \u001b[1;36m2\u001b[0m \u001b[1;33m*\u001b[0m \u001b[0md_hat\u001b[0m \u001b[1;33m-\u001b[0m \u001b[0md\u001b[0m\u001b[1;33m\u001b[0m\u001b[1;33m\u001b[0m\u001b[0m\n",
      "\u001b[1;31mKeyboardInterrupt\u001b[0m: "
     ]
    }
   ],
   "source": [
    "def runSensitivityExperiment(dim, f, title, filename):\n",
    "    fun, opt = bn.instantiate(f, iinstance=1)\n",
    "    problem = {\n",
    "    'num_vars': dim,\n",
    "    'names': ['X'+str(x) for x in range(dim)],\n",
    "    'bounds': [[-5.0, 5.0]] * dim\n",
    "    }\n",
    "    x_samples = [32,64,128,256,512,1024,2048,4096,8192] #,8192,16384\n",
    "    results = []\n",
    "    conf_results = []\n",
    "    \n",
    "    for sample_size in tqdm(x_samples,position=1, leave=False):\n",
    "        rep_results = []\n",
    "        rep_conf_results = []\n",
    "        for rep in tqdm(np.arange(10),position=2, leave=False):\n",
    "            np.random.seed(rep)\n",
    "            alg_results = []\n",
    "            alg_conf_results = []\n",
    "            X_morris = sample(problem, N=sample_size, num_levels=4, optimal_trajectories=None)\n",
    "            z_morris =  np.asarray(list(map(fun, X_morris)))\n",
    "\n",
    "            res_morris = morris.analyze(problem, X_morris, z_morris,\n",
    "                                        conf_level=0.95,\n",
    "                                        print_to_console=False,\n",
    "                                        num_levels=4,\n",
    "                                        num_resamples=10,\n",
    "                                        seed=rep)\n",
    "\n",
    "            mu_star_fixed = np.asarray(res_morris[\"mu_star\"]) / np.sum(res_morris[\"mu_star\"])\n",
    "            mu_star_conf_fixed = np.asarray(res_morris[\"mu_star_conf\"]) / np.sum(res_morris[\"mu_star\"])\n",
    "\n",
    "            alg_results.append( mu_star_fixed)\n",
    "            alg_conf_results.append( mu_star_conf_fixed)\n",
    "\n",
    "            #Sobol\n",
    "            X_sobol = saltelli.sample(problem, N=sample_size, calc_second_order=True)\n",
    "            z_sobol =  np.asarray(list(map(fun, X_sobol)))\n",
    "            res_sobol = sobol.analyze(problem, z_sobol, print_to_console=False,seed=rep)\n",
    "            alg_results.append( np.asarray(res_sobol[\"S1\"]))\n",
    "            alg_conf_results.append( np.asarray(res_sobol[\"S1_conf\"]))\n",
    "            \n",
    "\n",
    "            #Fast\n",
    "            M = 4\n",
    "            while ((4 * M)**2 > sample_size):\n",
    "                M -= 1\n",
    "            \n",
    "            X_fast = fast_sampler.sample(problem, N=sample_size, M=M, seed=rep)\n",
    "            z_fast =  np.asarray(list(map(fun, X_fast)))\n",
    "            res_fast = fast.analyze(problem, z_fast, print_to_console=False,seed=rep)\n",
    "            alg_results.append( np.asarray(res_fast[\"S1\"]))\n",
    "            alg_conf_results.append( np.asarray(res_fast[\"S1_conf\"]))\n",
    "\n",
    "            #rbd #delta\n",
    "            X_latin = latin.sample(problem, N=sample_size)\n",
    "            z_latin =  np.asarray(list(map(fun, X_latin)))\n",
    "            res_rbd = rbd_fast.analyze(problem, X_latin, z_latin, print_to_console=False,seed=rep)\n",
    "            res_delta = delta.analyze(problem, X_latin, z_latin, print_to_console=False,seed=rep)\n",
    "            alg_results.append( np.asarray(res_rbd[\"S1\"]))\n",
    "            alg_conf_results.append( np.asarray(res_rbd[\"S1_conf\"]))\n",
    "            alg_results.append( np.asarray(res_delta[\"S1\"]))\n",
    "            alg_conf_results.append( np.asarray(res_delta[\"S1_conf\"]))\n",
    "\n",
    "            #dgsm\n",
    "            X_dgsm = finite_diff.sample(problem, N=sample_size)\n",
    "            z_dgsm =  np.asarray(list(map(fun, X_dgsm)))\n",
    "            res_dgsm = dgsm.analyze(problem, X_dgsm, z_dgsm, print_to_console=False)\n",
    "            \n",
    "            dgsm_fixed = np.asarray(res_dgsm[\"dgsm\"]) / np.sum(res_dgsm[\"dgsm\"])\n",
    "            alg_results.append( dgsm_fixed)\n",
    "            dgsm_conf_fixed = np.asarray(res_dgsm[\"dgsm_conf\"]) / np.sum(res_dgsm[\"dgsm\"])\n",
    "            alg_conf_results.append( dgsm_conf_fixed)\n",
    "\n",
    "\n",
    "            #combine\n",
    "            rep_results.append(np.asarray(alg_results))\n",
    "            rep_conf_results.append(np.asarray(alg_conf_results))\n",
    "        results.append(np.asarray(rep_results))\n",
    "        conf_results.append(np.asarray(rep_conf_results))\n",
    "\n",
    "    plotSensitivity(x_samples, np.asarray(results), np.asarray(conf_results), title=title, filename=filename)\n",
    "\n",
    "from benchmark import bbobbenchmarks as bn\n",
    "\n",
    "fIDs = bn.nfreeIDs[:]    # for all fcts\n",
    "\n",
    "for dim in [2,5,10,20]:\n",
    "    for f in tqdm(fIDs, position=0):\n",
    "        runSensitivityExperiment(dim, f, title=f\"Average Sensitivity Scores per Sample Size on F{f} D{dim}\", filename=f\"f{f}-d{dim}\") #maybe add repetitions"
   ]
  },
  {
   "cell_type": "code",
   "execution_count": null,
   "metadata": {},
   "outputs": [],
   "source": []
  }
 ],
 "metadata": {
  "interpreter": {
   "hash": "c424677d48550d8fbc7fccefd265019ddbe707f4cd67a8aa7ac80693002c3a93"
  },
  "kernelspec": {
   "display_name": "Python 3.9.9 64-bit ('env': venv)",
   "language": "python",
   "name": "python3"
  },
  "language_info": {
   "codemirror_mode": {
    "name": "ipython",
    "version": 3
   },
   "file_extension": ".py",
   "mimetype": "text/x-python",
   "name": "python",
   "nbconvert_exporter": "python",
   "pygments_lexer": "ipython3",
   "version": "3.9.9"
  },
  "orig_nbformat": 4
 },
 "nbformat": 4,
 "nbformat_minor": 2
}
