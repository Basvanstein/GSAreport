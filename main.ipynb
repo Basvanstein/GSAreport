{
 "cells": [
  {
   "cell_type": "code",
   "execution_count": null,
   "metadata": {},
   "outputs": [],
   "source": [
    "from mpl_toolkits.mplot3d import Axes3D\n",
    "from matplotlib import cm\n",
    "from matplotlib.colors import LogNorm\n",
    "import matplotlib.pyplot as plt\n",
    "import numpy as np\n",
    "from deap import benchmarks\n",
    "\n",
    "from SALib.sample import saltelli,finite_diff, fast_sampler\n",
    "from SALib.analyze import morris,sobol, dgsm, fast, delta\n",
    "from SALib.util import read_param_file\n",
    "from SALib.sample.morris import sample\n",
    "from SALib.plotting.morris import horizontal_bar_plot, covariance_plot, sample_histograms\n",
    "%matplotlib inline"
   ]
  }
 ],
 "metadata": {
  "interpreter": {
   "hash": "d524468e844b1c7f9502425d9cf9bfa2b3507cbe064e1db4d3e89d9683b33740"
  },
  "kernelspec": {
   "display_name": "Python 3.9.9 64-bit (windows store)",
   "language": "python",
   "name": "python3"
  },
  "language_info": {
   "name": "python",
   "version": "3.9.9"
  },
  "orig_nbformat": 4
 },
 "nbformat": 4,
 "nbformat_minor": 2
}
