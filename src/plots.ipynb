{
 "cells": [
  {
   "cell_type": "code",
   "execution_count": 2,
   "metadata": {},
   "outputs": [],
   "source": [
    "from benchmark import bbobbenchmarks as bn\n",
    "import os\n",
    "import os.path\n",
    "import warnings\n",
    "from cProfile import label\n",
    "\n",
    "import numpy as np\n",
    "from bokeh.embed import components\n",
    "from SALib.sample import saltelli,finite_diff, fast_sampler, latin\n",
    "from SALib.analyze import delta, dgsm, fast, morris, pawn, rbd_fast, sobol\n",
    "from SALib.plotting.bar import plot as barplot\n",
    "from SALib.plotting.hdmr import plot as hdmrplot\n",
    "from SALib.plotting.morris import (\n",
    "    covariance_plot,\n",
    "    horizontal_bar_plot,\n",
    "    sample_histograms,\n",
    ")\n",
    "from SALib.sample.morris import sample\n",
    "from SALib.util import read_param_file\n",
    "from scipy.stats import pearsonr\n",
    "from sklearn.ensemble import RandomForestRegressor\n",
    "from sklearn.linear_model import LinearRegression\n",
    "from sklearn.metrics import r2_score\n",
    "from tqdm import tqdm\n",
    "\n",
    "warnings.filterwarnings(\"ignore\")\n",
    "use_graph_tool = False\n",
    "try:\n",
    "    from graph_tool import draw\n",
    "    from graph_tool.all import *\n",
    "\n",
    "    import plotting.network_tools as nt\n",
    "\n",
    "    use_graph_tool = True\n",
    "except ModuleNotFoundError:\n",
    "    # Error handling (ignore and do not use)\n",
    "    pass\n",
    "except ImportError:\n",
    "    pass\n",
    "\n",
    "import json\n",
    "import shutil\n",
    "import textwrap\n",
    "from datetime import datetime\n",
    "\n",
    "import matplotlib.pyplot as pl\n",
    "import pandas as pd\n",
    "from bokeh.plotting import figure, output_file, save\n",
    "from sklearn.ensemble import RandomForestRegressor\n",
    "from sklearn.model_selection import cross_val_score\n",
    "\n",
    "import plotting.data_processing as dp\n",
    "import plotting.interactive_plots as ip\n",
    "from plotting.plotting import TS_CODE, make_plot, make_second_order_heatmap\n",
    "from bokeh.plotting import ColumnDataSource, figure, show\n",
    "\n",
    "dim = 5\n",
    "problem = {\n",
    "    \"num_vars\": dim,\n",
    "    \"names\": [\"X\" + str(x) for x in range(dim)],\n",
    "    \"bounds\": [[-5.0, 5.0]] * dim,\n",
    "}\n",
    "fun, opt = bn.instantiate(3, iinstance=1)\n"
   ]
  },
  {
   "cell_type": "code",
   "execution_count": 17,
   "metadata": {},
   "outputs": [
    {
     "name": "stdout",
     "output_type": "stream",
     "text": [
      "Created a graph with 5 vertices and 2 edges.\n",
      "Vertices are the top 5 ST values greater than 0.01.\n",
      "Only S2 values (edges) greater than 0.002 are included.\n"
     ]
    },
    {
     "data": {
      "text/plain": [
       "(<VertexPropertyMap object with value type 'vector<double>', for Graph 0x19c81f8e0, at 0x19c64d9a0>,\n",
       " <Graph object, directed, with 6 vertices and 5 edges, at 0x19c7cc490>,\n",
       " <VertexPropertyMap object with value type 'vector<double>', for Graph 0x19c7cc490, at 0x19e20e0d0>)"
      ]
     },
     "execution_count": 17,
     "metadata": {},
     "output_type": "execute_result"
    }
   ],
   "source": [
    "X_sobol = saltelli.sample(problem, N=500, calc_second_order=True)\n",
    "z_sobol =  np.asarray(list(map(fun, X_sobol)))\n",
    "\n",
    "sa = sobol.analyze(problem, z_sobol, print_to_console=False, seed=0, calc_second_order=True)\n",
    "\n",
    "df = sa.to_df()\n",
    "sa_dict = dp.format_salib_output(sa, \"problem\", pretty_names=None)\n",
    "\n",
    "#p = ip.plot_dict(sa_dict[\"problem\"], min_val=0, top=5, log_axis=True)\n",
    "#p.sizing_mode = \"scale_width\"\n",
    "#p.title = \"Sobol first order and total sensitivities\"\n",
    "#show(p)\n",
    "\n",
    "g = nt.build_graph(sa_dict[\"problem\"], sens=\"ST\", top=5, edge_cutoff=0.002, edge_width=300)\n",
    "inline = True\n",
    "scale = 100\n",
    "for i in range(g.num_vertices()):\n",
    "    g.vp[\"sensitivity\"][i] = scale * g.vp[\"sensitivity\"][i]\n",
    "\n",
    "#print(g.ep[\"second_sens\"])\n",
    "#for i in range(g.num_edges()):\n",
    "#    g.ep[\"second_sens\"][i] = scale * g.ep[\"second_sens\"][i]\n",
    "\n",
    "filename = \"sobol_network.png\"\n",
    "state = graph_tool.inference.minimize_nested_blockmodel_dl(g)\n",
    "draw.draw_hierarchy(\n",
    "    state,\n",
    "    vertex_text=g.vp[\"param\"],\n",
    "    vertex_text_position=\"centered\",\n",
    "    layout=\"radial\",\n",
    "    hide=2,\n",
    "    # vertex_text_color='black',\n",
    "    vertex_font_size=14,\n",
    "    vertex_size=g.vp[\"sensitivity\"],\n",
    "    # vertex_color='#006600',\n",
    "    # vertex_fill_color='#008800',\n",
    "    vertex_halo=True,\n",
    "    vertex_halo_color=\"#b3c6ff\",\n",
    "    vertex_halo_size=g.vp[\"confidence\"],\n",
    "    edge_pen_width=g.ep[\"second_sens\"],\n",
    "    #subsample_edges=100,\n",
    "    output_size=(500, 500),\n",
    "    inline=inline,\n",
    "    output=filename,\n",
    ")"
   ]
  },
  {
   "cell_type": "code",
   "execution_count": 3,
   "metadata": {},
   "outputs": [],
   "source": [
    "\n",
    "\n",
    "p = ip.plot_second_order(sa_dict[\"problem\"], top=5)\n",
    "show(p)\n",
    "#p.sizing_mode = \"scale_width\""
   ]
  },
  {
   "cell_type": "code",
   "execution_count": 9,
   "metadata": {},
   "outputs": [
    {
     "data": {
      "text/html": [
       "<div>\n",
       "<style scoped>\n",
       "    .dataframe tbody tr th:only-of-type {\n",
       "        vertical-align: middle;\n",
       "    }\n",
       "\n",
       "    .dataframe tbody tr th {\n",
       "        vertical-align: top;\n",
       "    }\n",
       "\n",
       "    .dataframe thead th {\n",
       "        text-align: right;\n",
       "    }\n",
       "</style>\n",
       "<table border=\"1\" class=\"dataframe\">\n",
       "  <thead>\n",
       "    <tr style=\"text-align: right;\">\n",
       "      <th></th>\n",
       "      <th>index</th>\n",
       "      <th>vi</th>\n",
       "      <th>vi_std</th>\n",
       "      <th>dgsm</th>\n",
       "      <th>dgsm_conf</th>\n",
       "    </tr>\n",
       "  </thead>\n",
       "  <tbody>\n",
       "    <tr>\n",
       "      <th>0</th>\n",
       "      <td>X0</td>\n",
       "      <td>2275.678564</td>\n",
       "      <td>2288.914236</td>\n",
       "      <td>0.951538</td>\n",
       "      <td>202.936666</td>\n",
       "    </tr>\n",
       "    <tr>\n",
       "      <th>1</th>\n",
       "      <td>X1</td>\n",
       "      <td>3922.314239</td>\n",
       "      <td>4407.127111</td>\n",
       "      <td>1.640052</td>\n",
       "      <td>408.104186</td>\n",
       "    </tr>\n",
       "    <tr>\n",
       "      <th>2</th>\n",
       "      <td>X2</td>\n",
       "      <td>7417.641421</td>\n",
       "      <td>8943.520030</td>\n",
       "      <td>3.101567</td>\n",
       "      <td>782.060618</td>\n",
       "    </tr>\n",
       "    <tr>\n",
       "      <th>3</th>\n",
       "      <td>X3</td>\n",
       "      <td>21708.055538</td>\n",
       "      <td>36595.649018</td>\n",
       "      <td>9.076872</td>\n",
       "      <td>3409.585865</td>\n",
       "    </tr>\n",
       "    <tr>\n",
       "      <th>4</th>\n",
       "      <td>X4</td>\n",
       "      <td>29531.184240</td>\n",
       "      <td>41531.071951</td>\n",
       "      <td>12.347987</td>\n",
       "      <td>3714.964003</td>\n",
       "    </tr>\n",
       "  </tbody>\n",
       "</table>\n",
       "</div>"
      ],
      "text/plain": [
       "  index            vi        vi_std       dgsm    dgsm_conf\n",
       "0    X0   2275.678564   2288.914236   0.951538   202.936666\n",
       "1    X1   3922.314239   4407.127111   1.640052   408.104186\n",
       "2    X2   7417.641421   8943.520030   3.101567   782.060618\n",
       "3    X3  21708.055538  36595.649018   9.076872  3409.585865\n",
       "4    X4  29531.184240  41531.071951  12.347987  3714.964003"
      ]
     },
     "execution_count": 9,
     "metadata": {},
     "output_type": "execute_result"
    }
   ],
   "source": [
    "X_dgsm = finite_diff.sample(problem, N=500)\n",
    "z_dgsm =  np.asarray(list(map(fun, X_dgsm)))\n",
    "Si = dgsm.analyze(problem, X_dgsm, z_dgsm, print_to_console=False)\n",
    "df = Si.to_df()\n",
    "df.reset_index(inplace=True)\n",
    "df\n",
    "\n"
   ]
  },
  {
   "cell_type": "code",
   "execution_count": 12,
   "metadata": {},
   "outputs": [],
   "source": [
    "\n",
    "df = df.sort_values(by=[\"vi\"], ascending=False)\n",
    "dftop = df.iloc[:5]\n",
    "p = figure(\n",
    "    x_range=dftop[\"index\"],\n",
    "    plot_height=300,\n",
    "    plot_width=400,\n",
    "    toolbar_location=\"right\",\n",
    "    title=\"DGSM vi\"\n",
    ")\n",
    "p = ip.plot_errorbar(\n",
    "    dftop,\n",
    "    p,\n",
    "    base_col=\"vi\",\n",
    "    error_col=\"vi_std\",\n",
    "    label_x=\"vi\",\n",
    "    label_y=\"vi std.\",\n",
    ")\n",
    "#p.sizing_mode = \"scale_width\"\n",
    "show(p)"
   ]
  },
  {
   "cell_type": "code",
   "execution_count": 3,
   "metadata": {},
   "outputs": [],
   "source": [
    "Si = pawn.analyze(\n",
    "    problem, X_sobol, z_sobol, S=10, print_to_console=False, seed=1\n",
    ")\n",
    "df = Si.to_df()\n",
    "df = df.sort_values(by=[\"median\"], ascending=False)\n",
    "df.reset_index(inplace=True)\n",
    "dftop = df.iloc[:5]\n",
    "# p = figure(x_range=dftop['index'], plot_height=200, plot_width=20*top, toolbar_location=\"right\", title=\"Pawn\", tools=plottools)\n",
    "p = ip.plot_pawn(dftop, p)\n",
    "#p.sizing_mode = \"scale_width\"\n",
    "show(p)"
   ]
  },
  {
   "cell_type": "code",
   "execution_count": 4,
   "metadata": {},
   "outputs": [
    {
     "name": "stdout",
     "output_type": "stream",
     "text": [
      "[  5.088961    -7.49113946 -12.46331687  -1.02765228 -39.37541462]\n",
      "-142.43415961200586\n"
     ]
    }
   ],
   "source": [
    "reg = LinearRegression().fit(X_sobol, z_sobol)\n",
    "print( reg.coef_ )\n",
    "print(reg.intercept_)"
   ]
  }
 ],
 "metadata": {
  "kernelspec": {
   "display_name": "Python 3.9.12 64-bit",
   "language": "python",
   "name": "python3"
  },
  "language_info": {
   "codemirror_mode": {
    "name": "ipython",
    "version": 3
   },
   "file_extension": ".py",
   "mimetype": "text/x-python",
   "name": "python",
   "nbconvert_exporter": "python",
   "pygments_lexer": "ipython3",
   "version": "3.9.12"
  },
  "orig_nbformat": 4,
  "vscode": {
   "interpreter": {
    "hash": "aee8b7b246df8f9039afb4144a1f6fd8d2ca17a180786b69acc140d282b71a49"
   }
  }
 },
 "nbformat": 4,
 "nbformat_minor": 2
}
